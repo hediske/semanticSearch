{
 "cells": [
  {
   "cell_type": "markdown",
   "id": "1f1aaa4a-e055-4b78-b6fa-ad5129b07fae",
   "metadata": {},
   "source": [
    "Hi in this Notebook we will be creating a Semantic Search app based on meaning and context rather that keywords."
   ]
  },
  {
   "cell_type": "code",
   "execution_count": 24,
   "id": "b4207bdf-a197-4919-b5b5-2bb1ae81fa84",
   "metadata": {},
   "outputs": [
    {
     "name": "stdout",
     "output_type": "stream",
     "text": [
      "Requirement already satisfied: pandas in c:\\users\\moham\\appdata\\local\\programs\\python\\python311\\lib\\site-packages (2.2.2)\n",
      "Requirement already satisfied: numpy>=1.23.2 in c:\\users\\moham\\appdata\\local\\programs\\python\\python311\\lib\\site-packages (from pandas) (2.0.1)\n",
      "Requirement already satisfied: python-dateutil>=2.8.2 in c:\\users\\moham\\appdata\\local\\programs\\python\\python311\\lib\\site-packages (from pandas) (2.9.0.post0)\n",
      "Requirement already satisfied: pytz>=2020.1 in c:\\users\\moham\\appdata\\local\\programs\\python\\python311\\lib\\site-packages (from pandas) (2024.1)\n",
      "Requirement already satisfied: tzdata>=2022.7 in c:\\users\\moham\\appdata\\local\\programs\\python\\python311\\lib\\site-packages (from pandas) (2024.1)\n",
      "Requirement already satisfied: six>=1.5 in c:\\users\\moham\\appdata\\local\\programs\\python\\python311\\lib\\site-packages (from python-dateutil>=2.8.2->pandas) (1.16.0)\n"
     ]
    },
    {
     "name": "stderr",
     "output_type": "stream",
     "text": [
      "\n",
      "[notice] A new release of pip is available: 24.1.1 -> 24.1.2\n",
      "[notice] To update, run: python.exe -m pip install --upgrade pip\n"
     ]
    }
   ],
   "source": [
    "# !pip install cohere\n",
    "#!pip install python-dotenv\n",
    "# !pip install weaviate-client\n",
    "# !pip install pandas"
   ]
  },
  {
   "cell_type": "markdown",
   "id": "e28d02c6-0f05-479f-939f-a26ad884a9e0",
   "metadata": {},
   "source": [
    "We will first start by installing the libraries we need for the search engine. We will need at the start ***cohere LLM*** as Base model and ***Weaviate*** as the search engine and vector Database . "
   ]
  },
  {
   "cell_type": "code",
   "execution_count": 30,
   "id": "11cf5d67-98a5-47fa-8139-af5fed1c0793",
   "metadata": {},
   "outputs": [],
   "source": [
    "import cohere\n",
    "from dotenv import load_dotenv\n",
    "import os\n",
    "import pandas as pd\n",
    "import weaviate\n",
    "import weaviate.classes as wvc\n",
    "import weaviate.classes.config as wc"
   ]
  },
  {
   "cell_type": "code",
   "execution_count": 9,
   "id": "86609dc5-3771-44e3-80c5-e7d885c1a36f",
   "metadata": {},
   "outputs": [],
   "source": [
    "#Load the API keys and the Cluster URL\n",
    "load_dotenv()\n",
    "cohere_api = os.getenv(\"COHERE_API_KEY\")\n",
    "weaviate_api = os.getenv(\"WEAVIATE_API_KEY\")\n",
    "clusterUrl = os.getenv(\"WEAVIATE_CLUSTER_URL\")"
   ]
  },
  {
   "cell_type": "code",
   "execution_count": 4,
   "id": "1b66d45c-28d8-49f6-a7a2-4d94822c2f50",
   "metadata": {},
   "outputs": [],
   "source": [
    "#Create a Cohere CLient\n",
    "co = cohere.Client(cohere_api) "
   ]
  },
  {
   "cell_type": "code",
   "execution_count": 6,
   "id": "78e9bdaa",
   "metadata": {},
   "outputs": [],
   "source": [
    "#Create the Weaviate Client and the Cluster for DataBase\n",
    "authConfig = weaviate.auth.AuthApiKey(weaviate_api)\n",
    "client = weaviate.connect_to_wcs(\n",
    "    cluster_url=clusterUrl,\n",
    "    auth_credentials=authConfig,\n",
    "    headers={'X-Cohere-Api-Key': cohere_api},\n",
    "    skip_init_checks=True\n",
    ")"
   ]
  },
  {
   "cell_type": "markdown",
   "id": "5d3bbace",
   "metadata": {},
   "source": [
    "Now we can veerify if our client is connected. "
   ]
  },
  {
   "cell_type": "code",
   "execution_count": 17,
   "id": "bd2b205e-0358-415e-ba16-52dd7582d3b9",
   "metadata": {},
   "outputs": [
    {
     "name": "stdout",
     "output_type": "stream",
     "text": [
      "True\n"
     ]
    }
   ],
   "source": [
    "print(client.is_connected())"
   ]
  },
  {
   "cell_type": "markdown",
   "id": "02dead56-d049-4a99-95d6-58e625577daa",
   "metadata": {},
   "source": [
    "<h2>Vector Database Population</h2>\n",
    "Before starting the population process let's start by creating  a class for Book and to keep our system stable and coherant , we start by deleting our Class and then choose the properties and keep only _Title_ , _Categories_ and _Description_ as semantic search criterias by specifying that they are the only parameters to be embedded .\n",
    "\n"
   ]
  },
  {
   "cell_type": "code",
   "execution_count": 19,
   "id": "a56bcd4f-b799-4a4a-bc7f-206d55894ea4",
   "metadata": {},
   "outputs": [],
   "source": [
    "client.collections.delete(name='Book')"
   ]
  },
  {
   "cell_type": "code",
   "execution_count": 20,
   "id": "463227ef-52dd-446f-8228-a6da914145ae",
   "metadata": {},
   "outputs": [],
   "source": [
    "questions = client.collections.create(\n",
    "    name=\"Book\",\n",
    "    vectorizer_config=wc.Configure.Vectorizer.text2vec_cohere(),\n",
    "    generative_config=wc.Configure.Generative.cohere(),\n",
    "    properties=[\n",
    "        wc.Property(name=\"title\", data_type=wc.DataType.TEXT),\n",
    "        wc.Property(name=\"isbn10\", data_type=wc.DataType.TEXT, skip_vectorization=True),\n",
    "        wc.Property(name=\"isbn13\", data_type=wc.DataType.TEXT, skip_vectorization=True),\n",
    "        wc.Property(name=\"categories\", data_type=wc.DataType.TEXT),\n",
    "        wc.Property(name=\"thumbnail\", data_type=wc.DataType.TEXT, skip_vectorization=True),\n",
    "        wc.Property(name=\"description\", data_type=wc.DataType.TEXT),\n",
    "        wc.Property(name=\"num_pages\", data_type=wc.DataType.TEXT, skip_vectorization=True),\n",
    "        wc.Property(name=\"average_rating\", data_type=wc.DataType.TEXT, skip_vectorization=True),\n",
    "        wc.Property(name=\"published_year\", data_type=wc.DataType.TEXT, skip_vectorization=True),\n",
    "        wc.Property(name=\"authors\", data_type=wc.DataType.TEXT, skip_vectorization=True),\n",
    "    ],)\n",
    "    "
   ]
  },
  {
   "cell_type": "code",
   "execution_count": 32,
   "id": "8a424ee3-a07b-4167-bf63-6c43efe57c2a",
   "metadata": {
    "scrolled": true
   },
   "outputs": [
    {
     "name": "stdout",
     "output_type": "stream",
     "text": [
      "isbn13\n",
      "isbn10\n",
      "title\n",
      "subtitle\n",
      "authors\n",
      "categories\n",
      "thumbnail\n",
      "description\n",
      "published_year\n",
      "average_rating\n",
      "num_pages\n",
      "ratings_count\n",
      "isbn13\n",
      "isbn10\n",
      "title\n",
      "subtitle\n",
      "authors\n",
      "categories\n",
      "thumbnail\n",
      "description\n",
      "published_year\n",
      "average_rating\n",
      "num_pages\n",
      "ratings_count\n",
      "isbn13\n",
      "isbn10\n",
      "title\n",
      "subtitle\n",
      "authors\n",
      "categories\n",
      "thumbnail\n",
      "description\n",
      "published_year\n",
      "average_rating\n",
      "num_pages\n",
      "ratings_count\n",
      "isbn13\n",
      "isbn10\n",
      "title\n",
      "subtitle\n",
      "authors\n",
      "categories\n",
      "thumbnail\n",
      "description\n",
      "published_year\n",
      "average_rating\n",
      "num_pages\n",
      "ratings_count\n",
      "isbn13\n",
      "isbn10\n",
      "title\n",
      "subtitle\n",
      "authors\n",
      "categories\n",
      "thumbnail\n",
      "description\n",
      "published_year\n",
      "average_rating\n",
      "num_pages\n",
      "ratings_count\n",
      "isbn13\n",
      "isbn10\n",
      "title\n",
      "subtitle\n",
      "authors\n",
      "categories\n",
      "thumbnail\n",
      "description\n",
      "published_year\n",
      "average_rating\n",
      "num_pages\n",
      "ratings_count\n",
      "isbn13\n",
      "isbn10\n",
      "title\n",
      "subtitle\n",
      "authors\n",
      "categories\n",
      "thumbnail\n",
      "description\n",
      "published_year\n",
      "average_rating\n",
      "num_pages\n",
      "ratings_count\n"
     ]
    },
    {
     "name": "stderr",
     "output_type": "stream",
     "text": [
      "C:\\Users\\moham\\AppData\\Local\\Temp\\ipykernel_20164\\42307307.py:3: ResourceWarning: unclosed file <_io.TextIOWrapper name='./books.csv' mode='r' encoding='utf-8'>\n",
      "  chunks = pd.read_csv(\"./books.csv\",chunksize=chunksize)\n",
      "ResourceWarning: Enable tracemalloc to get the object allocation traceback\n"
     ]
    }
   ],
   "source": [
    "book_collections = client.collections.get('Book')\n",
    "chunksize = 1000\n",
    "chunks = pd.read_csv(\"./books.csv\",chunksize=chunksize)\n",
    "for chunk in range(1,4):\n",
    "    for book in chunk:\n",
    "        print(book)\n",
    "        \n"
   ]
  }
 ],
 "metadata": {
  "kernelspec": {
   "display_name": "Python 3 (ipykernel)",
   "language": "python",
   "name": "python3"
  },
  "language_info": {
   "codemirror_mode": {
    "name": "ipython",
    "version": 3
   },
   "file_extension": ".py",
   "mimetype": "text/x-python",
   "name": "python",
   "nbconvert_exporter": "python",
   "pygments_lexer": "ipython3",
   "version": "3.11.8"
  }
 },
 "nbformat": 4,
 "nbformat_minor": 5
}
